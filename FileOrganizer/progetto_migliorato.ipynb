{
 "cells": [
  {
   "cell_type": "code",
   "execution_count": 113,
   "metadata": {},
   "outputs": [],
   "source": [
    "# importo i pacchetti da utilizzare\n",
    "\n",
    "import os\n",
    "import shutil\n",
    "import csv\n",
    "import numpy as np\n",
    "import PIL"
   ]
  },
  {
   "cell_type": "code",
   "execution_count": 114,
   "metadata": {},
   "outputs": [],
   "source": [
    "# definisco i path delle cartelle\n",
    "\n",
    "main_path = \"../FileOrganizer/files\"\n",
    "\n",
    "docs_dir = os.path.join(main_path, \"docs\")\n",
    "audio_dir = os.path.join(main_path, \"audio\")\n",
    "images_dir = os.path.join(main_path, \"images\")\n",
    "\n",
    "recap_csv = os.path.join(main_path, \"recap.csv\")"
   ]
  },
  {
   "cell_type": "code",
   "execution_count": 115,
   "metadata": {},
   "outputs": [],
   "source": [
    "# creo un dizonario con all'interno le tipologe di files\n",
    "\n",
    "file_mapping = {\n",
    "    \"txt\" : \"doc\",\n",
    "    \"odt\" : \"doc\",\n",
    "    \"jpg\" : \"image\",\n",
    "    \"jpeg\" : \"image\",\n",
    "    \"png\" : \"image\",\n",
    "    \"mp3\" : \"audio\"\n",
    "}"
   ]
  },
  {
   "cell_type": "code",
   "execution_count": 116,
   "metadata": {},
   "outputs": [
    {
     "name": "stdout",
     "output_type": "stream",
     "text": [
      "img_3901, image, 11231B\n"
     ]
    }
   ],
   "source": [
    "for file in os.listdir(main_path):\n",
    "\n",
    "    file_path = os.path.join(main_path, file)\n",
    "\n",
    "    if file == \"recap.csv\":\n",
    "        continue\n",
    "\n",
    "    if os.path.isfile(file_path):\n",
    "\n",
    "        file_size = os.path.getsize(file_path)\n",
    "        file_name = file.split(\".\")[0].lower()\n",
    "        file_extension = file.split(\".\")[-1].lower()\n",
    "        file_type = file_mapping[file_extension]\n",
    "\n",
    "        if file_type == \"doc\":\n",
    "            target_dir = docs_dir\n",
    "        elif file_type == \"image\":\n",
    "            target_dir = images_dir\n",
    "        elif file_type == \"audio\":\n",
    "            target_dir = audio_dir\n",
    "\n",
    "        if not os.path.exists(target_dir):\n",
    "            os.makedirs(target_dir)\n",
    "        \n",
    "        shutil.move(file_path, target_dir)\n",
    "\n",
    "        print(f\"{file_name}, {file_mapping[file_extension]}, {file_size}B\")\n",
    "\n",
    "        recap_csv_exists = os.path.exists(recap_csv)\n",
    "\n",
    "        with open(recap_csv, mode=\"a\", newline=\"\") as csvfile:\n",
    "            writer = csv.writer(csvfile)\n",
    "\n",
    "            if not recap_csv_exists:\n",
    "                header = \"name, type, size(B)\".split(\", \")\n",
    "                writer.writerow(header)\n",
    "            writer.writerow([file_name, file_mapping[file_extension], file_size])\n"
   ]
  },
  {
   "cell_type": "code",
   "execution_count": 121,
   "metadata": {},
   "outputs": [
    {
     "name": "stdout",
     "output_type": "stream",
     "text": [
      "(512, 512) 2\n",
      "(500, 335, 3) 3\n",
      "(256, 256, 4) 3\n",
      "(212, 320, 3) 3\n",
      "(183, 275, 3) 3\n",
      "╭──────────────┬──────────┬─────────┬─────────────┬──────────┬──────────┬───────────┬─────────╮\n",
      "│ name         │   height │   width │   greyscale │        R │        G │         B │   ALPHA │\n",
      "├──────────────┼──────────┼─────────┼─────────────┼──────────┼──────────┼───────────┼─────────┤\n",
      "│ bw.png       │      512 │     512 │     21.4801 │   0      │   0      │   0       │   0     │\n",
      "├──────────────┼──────────┼─────────┼─────────────┼──────────┼──────────┼───────────┼─────────┤\n",
      "│ daffodil.jpg │      500 │     335 │      0      │ 109.227  │  85.5231 │   4.76619 │   0     │\n",
      "├──────────────┼──────────┼─────────┼─────────────┼──────────┼──────────┼───────────┼─────────┤\n",
      "│ eclipse.png  │      256 │     256 │      0      │ 109.05   │ 109.522  │  39.849   │ 133.591 │\n",
      "├──────────────┼──────────┼─────────┼─────────────┼──────────┼──────────┼───────────┼─────────┤\n",
      "│ IMG_3901.JPG │      212 │     320 │      0      │ 119.429  │ 125.39   │ 125.884   │   0     │\n",
      "├──────────────┼──────────┼─────────┼─────────────┼──────────┼──────────┼───────────┼─────────┤\n",
      "│ trump.jpeg   │      183 │     275 │      0      │  97.0108 │  98.9941 │  90.9238  │   0     │\n",
      "╰──────────────┴──────────┴─────────┴─────────────┴──────────┴──────────┴───────────┴─────────╯\n"
     ]
    }
   ],
   "source": [
    "from PIL import Image\n",
    "from tabulate import tabulate\n",
    "\n",
    "cols = ['name', 'height', 'width', 'greyscale', 'R', 'G', 'B', 'ALPHA']\n",
    "\n",
    "rows = []\n",
    "\n",
    "for image_name in os.listdir(images_dir):\n",
    "    row = [image_name]\n",
    "    image_path = os.path.join(images_dir, image_name)\n",
    "    image = Image.open(image_path)\n",
    "    image_array = np.array(image)\n",
    "\n",
    "    print(image_array.shape, image_array.ndim)\n",
    "\n",
    "    row.append(image_array.shape[0])\n",
    "    row.append(image_array.shape[1])\n",
    "    \n",
    "    if image_array.ndim == 2:\n",
    "        row.append(image_array.mean())\n",
    "        row.append(0)\n",
    "        row.append(0)\n",
    "        row.append(0)\n",
    "        row.append(0)\n",
    "    elif image_array.ndim == 3:\n",
    "        if image_array.shape[2] == 3:\n",
    "            row.append(0)\n",
    "            row.append(image_array.mean(axis=(0,1))[0])\n",
    "            row.append(image_array.mean(axis=(0,1))[1])\n",
    "            row.append(image_array.mean(axis=(0,1))[2])\n",
    "            row.append(0)\n",
    "        elif image_array.shape[2] == 4:\n",
    "            row.append(0)\n",
    "            row.append(image_array.mean(axis=(0,1))[0])\n",
    "            row.append(image_array.mean(axis=(0,1))[1])\n",
    "            row.append(image_array.mean(axis=(0,1))[2])\n",
    "            row.append(image_array.mean(axis=(0,1))[3])\n",
    "\n",
    "    rows.append(row)\n",
    "\n",
    "print(tabulate(rows, cols, tablefmt='rounded_grid'))\n"
   ]
  }
 ],
 "metadata": {
  "kernelspec": {
   "display_name": "Python 3",
   "language": "python",
   "name": "python3"
  },
  "language_info": {
   "codemirror_mode": {
    "name": "ipython",
    "version": 3
   },
   "file_extension": ".py",
   "mimetype": "text/x-python",
   "name": "python",
   "nbconvert_exporter": "python",
   "pygments_lexer": "ipython3",
   "version": "3.12.7"
  }
 },
 "nbformat": 4,
 "nbformat_minor": 2
}
