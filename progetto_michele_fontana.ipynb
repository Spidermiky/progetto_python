{
 "cells": [
  {
   "cell_type": "code",
   "execution_count": 353,
   "metadata": {},
   "outputs": [],
   "source": [
    "#importo le librerie necessarie\n",
    "\n",
    "import os, shutil, csv"
   ]
  },
  {
   "cell_type": "code",
   "execution_count": 354,
   "metadata": {},
   "outputs": [
    {
     "data": {
      "text/plain": [
       "'C:\\\\Users\\\\PIPPO\\\\Desktop\\\\progetto_python\\\\FileOrganizer\\\\files'"
      ]
     },
     "execution_count": 354,
     "metadata": {},
     "output_type": "execute_result"
    }
   ],
   "source": [
    "# mi sposto nella cartella files e controllo che sia quella corretta con il comando os.getcwd()\n",
    "\n",
    "os.chdir(\"C:/Users/PIPPO/Desktop/progetto_python/FileOrganizer/files\")\n",
    "\n",
    "os.getcwd()"
   ]
  },
  {
   "cell_type": "code",
   "execution_count": 355,
   "metadata": {},
   "outputs": [],
   "source": [
    "# creo i path della cartella principale e delle sottocartelle in cui voglio spostare i file, suddivisi per tipo\n",
    "\n",
    "main_path = \"C:/Users/PIPPO/Desktop/progetto_python/FileOrganizer/files\"\n",
    "\n",
    "docs_dir = os.path.join(main_path, \"docs\")\n",
    "images_dir = os.path.join(main_path, \"images\")\n",
    "audio_dir = os.path.join(main_path, \"audio\")\n",
    "\n",
    "recap_csv = \"recap.csv\""
   ]
  },
  {
   "cell_type": "code",
   "execution_count": 356,
   "metadata": {},
   "outputs": [
    {
     "data": {
      "text/plain": [
       "True"
      ]
     },
     "execution_count": 356,
     "metadata": {},
     "output_type": "execute_result"
    }
   ],
   "source": [
    "# controllo se i file recap.csv esiste\n",
    "\n",
    "file_csv_exists = os.path.exists(recap_csv)\n",
    "file_csv_exists"
   ]
  },
  {
   "cell_type": "code",
   "execution_count": 357,
   "metadata": {},
   "outputs": [],
   "source": [
    "# creo un dizionario con le tipologie di file, \n",
    "\n",
    "type = {\n",
    "    \"txt\": \"doc\",\n",
    "    \"odt\": \"doc\",\n",
    "    \"mp3\": \"audio\",\n",
    "    \"png\": \"image\",\n",
    "    \"jpg\": \"image\",\n",
    "    \"jpeg\": \"image\"\n",
    "}"
   ]
  },
  {
   "cell_type": "code",
   "execution_count": 358,
   "metadata": {},
   "outputs": [
    {
     "name": "stdout",
     "output_type": "stream",
     "text": [
      "img_3901 type:image size:11231B\n"
     ]
    }
   ],
   "source": [
    "# posto i file nelle cartelle corrette in base al loro tipo, inoltre creo un file di recap csv con le informazioni sui file spostati\n",
    "\n",
    "with open(recap_csv, mode=\"a\", newline=\"\") as csvfile:\n",
    "    writer = csv.writer(csvfile)\n",
    "\n",
    "    if not file_csv_exists:\n",
    "        writer.writerow([\"name\", \"type\", \"size(B)\"])\n",
    "\n",
    "    for file in os.listdir(main_path):\n",
    "\n",
    "        file_name = file.split(\".\")[0].lower()\n",
    "        file_type = file.split(\".\")[-1].lower()\n",
    "\n",
    "        if file.endswith(\".txt\") or file.endswith(\".odt\"):\n",
    "            if not os.path.exists(docs_dir):\n",
    "                os.makedirs(docs_dir)\n",
    "            shutil.move(file, docs_dir)\n",
    "            file_size = os.path.getsize(os.path.join(docs_dir, file))\n",
    "            print(f\"{file_name} type:{type[file_type]} size:{file_size}B\")\n",
    "            writer.writerow([file_name, type[file_type], file_size])\n",
    "\n",
    "        elif file.endswith(\".jpg\") or file.endswith(\".png\") or file.endswith(\".jpeg\"):\n",
    "            if not os.path.exists(images_dir):\n",
    "                os.makedirs(images_dir)\n",
    "            shutil.move(file, images_dir)\n",
    "            file_size = os.path.getsize(os.path.join(images_dir, file))\n",
    "            print(f\"{file_name} type:{type[file_type]} size:{file_size}B\")\n",
    "            writer.writerow([file_name, type[file_type], file_size])\n",
    "        \n",
    "        elif file.endswith(\".mp3\"):\n",
    "            if not os.path.exists(audio_dir):\n",
    "                os.makedirs(audio_dir)\n",
    "            shutil.move(file, audio_dir)\n",
    "            file_size = os.path.getsize(os.path.join(audio_dir, file))\n",
    "            print(f\"{file_name} type:{type[file_type]} size:{file_size}B\")\n",
    "            writer.writerow([file_name, type[file_type], file_size])"
   ]
  }
 ],
 "metadata": {
  "kernelspec": {
   "display_name": "Python 3",
   "language": "python",
   "name": "python3"
  },
  "language_info": {
   "codemirror_mode": {
    "name": "ipython",
    "version": 3
   },
   "file_extension": ".py",
   "mimetype": "text/x-python",
   "name": "python",
   "nbconvert_exporter": "python",
   "pygments_lexer": "ipython3",
   "version": "3.12.7"
  }
 },
 "nbformat": 4,
 "nbformat_minor": 2
}
